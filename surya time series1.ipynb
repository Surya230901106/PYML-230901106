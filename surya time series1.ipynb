{
 "cells": [
  {
   "cell_type": "code",
   "execution_count": 4,
   "id": "d664daaa-a102-4ced-96b1-e00b2642ccc9",
   "metadata": {},
   "outputs": [
    {
     "name": "stdout",
     "output_type": "stream",
     "text": [
      "today-now function: 2025-04-14 12:47:33.072608\n"
     ]
    }
   ],
   "source": [
    "import datetime\n",
    "a=datetime.datetime.now()\n",
    "print(\"today-now function:\",a)"
   ]
  },
  {
   "cell_type": "code",
   "execution_count": 6,
   "id": "21bb15c0-9003-4fb0-8747-ad08205ef8df",
   "metadata": {},
   "outputs": [
    {
     "name": "stdout",
     "output_type": "stream",
     "text": [
      "\n",
      "today: 2025-04-14 14:31:36.305912\n"
     ]
    }
   ],
   "source": [
    "today=datetime.datetime.today()\n",
    "print(\"\\ntoday:\",today)"
   ]
  },
  {
   "cell_type": "code",
   "execution_count": 8,
   "id": "688083c9-aa9a-4706-a3e3-4f065236e4ac",
   "metadata": {},
   "outputs": [
    {
     "name": "stdout",
     "output_type": "stream",
     "text": [
      "\n",
      "tomorrow: 2025-04-17 14:31:36.305912\n"
     ]
    }
   ],
   "source": [
    "tomorrow=today+datetime.timedelta(days=3)\n",
    "print(\"\\ntomorrow:\",tomorrow)"
   ]
  },
  {
   "cell_type": "code",
   "execution_count": 10,
   "id": "babbca10-3be2-4aa7-9229-d7ea2a9f8e82",
   "metadata": {},
   "outputs": [
    {
     "name": "stdout",
     "output_type": "stream",
     "text": [
      "\n",
      "yesterday: 2025-04-12 14:31:36.305912\n"
     ]
    }
   ],
   "source": [
    "yesterday=today-datetime.timedelta(days=2)\n",
    "print(\"\\nyesterday:\",yesterday)"
   ]
  },
  {
   "cell_type": "code",
   "execution_count": 12,
   "id": "09f6068f-423f-497f-b1fe-67574eff3f8b",
   "metadata": {},
   "outputs": [
    {
     "name": "stdout",
     "output_type": "stream",
     "text": [
      "\n",
      "date format [2020,6,8,23,10,25,404040): 2020-06-08 23:10:25.404040\n"
     ]
    }
   ],
   "source": [
    "a=datetime.datetime.now()\n",
    "b=datetime.datetime(2020,6,8,23,10,25,404040)\n",
    "print(\"\\ndate format [2020,6,8,23,10,25,404040):\",b)"
   ]
  },
  {
   "cell_type": "code",
   "execution_count": 14,
   "id": "3c08636f-ca5c-4cd3-9e73-ff4cab96c087",
   "metadata": {},
   "outputs": [
    {
     "name": "stdout",
     "output_type": "stream",
     "text": [
      "\n",
      "Replacing 2024-12-31 2024-12-15\n"
     ]
    }
   ],
   "source": [
    "from datetime import date\n",
    "d=date(2024, 12, 31)\n",
    "print(\"\\nReplacing\",d,d.replace(day=15))\n"
   ]
  },
  {
   "cell_type": "code",
   "execution_count": null,
   "id": "b472a16d-1f7e-436d-8709-090025952286",
   "metadata": {},
   "outputs": [],
   "source": []
  }
 ],
 "metadata": {
  "kernelspec": {
   "display_name": "Python [conda env:base] *",
   "language": "python",
   "name": "conda-base-py"
  },
  "language_info": {
   "codemirror_mode": {
    "name": "ipython",
    "version": 3
   },
   "file_extension": ".py",
   "mimetype": "text/x-python",
   "name": "python",
   "nbconvert_exporter": "python",
   "pygments_lexer": "ipython3",
   "version": "3.12.7"
  }
 },
 "nbformat": 4,
 "nbformat_minor": 5
}
