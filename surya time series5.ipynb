{
 "cells": [
  {
   "cell_type": "code",
   "execution_count": 2,
   "id": "df3dd96d-548a-4bb0-9af1-d976eb1c9b8a",
   "metadata": {},
   "outputs": [
    {
     "name": "stdout",
     "output_type": "stream",
     "text": [
      "\n",
      "With this date object, create a series with datetime index:\n",
      " 2020-01-05    0.844625\n",
      "2020-01-10   -0.638162\n",
      "2020-01-15   -0.917370\n",
      "2020-01-20   -0.664130\n",
      "2020-01-25    1.047903\n",
      "dtype: float64\n"
     ]
    }
   ],
   "source": [
    "import pandas as pd\n",
    "import numpy as np\n",
    "from datetime import datetime\n",
    "dates = [datetime(2020,1,5),\n",
    "         datetime(2020,1,10),\n",
    "         datetime(2020,1,15),\n",
    "         datetime(2020,1,20),\n",
    "         datetime(2020,1,25)]\n",
    "ts = pd.Series(np.random.randn(5), index=dates)\n",
    "print(\"\\nWith this date object, create a series with datetime index:\\n\",ts)"
   ]
  },
  {
   "cell_type": "code",
   "execution_count": 4,
   "id": "d9ed619f-efc4-4776-b59c-08f7a33c4a25",
   "metadata": {},
   "outputs": [
    {
     "name": "stdout",
     "output_type": "stream",
     "text": [
      "\n",
      "Truncate method to truncate datetime series \n",
      " 2020-01-05    0.844625\n",
      "2020-01-10   -0.638162\n",
      "2020-01-15   -0.917370\n",
      "dtype: float64\n"
     ]
    }
   ],
   "source": [
    "res=ts.truncate(after=\"1/15/2020\")\n",
    "print(\"\\nTruncate method to truncate datetime series \\n\", res)"
   ]
  },
  {
   "cell_type": "code",
   "execution_count": 6,
   "id": "c9b4a97d-1c59-4d4e-8da9-b9b67450786a",
   "metadata": {},
   "outputs": [
    {
     "name": "stdout",
     "output_type": "stream",
     "text": [
      "\n",
      "Date range with day periods.\n",
      " DatetimeIndex(['2022-10-02', '2022-10-09', '2022-10-16', '2022-10-23',\n",
      "               '2022-10-30', '2022-11-06', '2022-11-13', '2022-11-20',\n",
      "               '2022-11-27', '2022-12-04'],\n",
      "              dtype='datetime64[ns]', freq='W-SUN')\n"
     ]
    }
   ],
   "source": [
    "da=pd.date_range(\"10/1/2022\", periods=10, freq=\"W-SUN\")\n",
    "print(\"\\nDate range with day periods.\\n\",da)"
   ]
  },
  {
   "cell_type": "code",
   "execution_count": 8,
   "id": "6d6bc0f4-a620-4bee-85b4-82b8404fbe79",
   "metadata": {},
   "outputs": [
    {
     "name": "stdout",
     "output_type": "stream",
     "text": [
      "\n",
      "Duplicate datetime index:\n",
      " 2020-01-01    0\n",
      "2020-01-02    1\n",
      "2020-01-02    2\n",
      "2020-01-02    3\n",
      "2020-01-03    4\n",
      "dtype: int32\n"
     ]
    }
   ],
   "source": [
    "date=pd.DatetimeIndex([\"1/1/2020\",\"1/2/2020\",\"1/2/2020\",\"1/2/2020\",\"1/3/2020\"])\n",
    "ts1=pd.Series(np.arange(5), index=date)\n",
    "print(\"\\nDuplicate datetime index:\\n\",ts1)"
   ]
  },
  {
   "cell_type": "code",
   "execution_count": 10,
   "id": "5c53ef15-07a2-40d3-b80b-c69ff1e8b8b8",
   "metadata": {},
   "outputs": [
    {
     "name": "stdout",
     "output_type": "stream",
     "text": [
      "\n",
      "Repeated date counts:\n",
      " 2020-01-01    1\n",
      "2020-01-02    3\n",
      "2020-01-03    1\n",
      "dtype: int64\n"
     ]
    }
   ],
   "source": [
    "group=ts1.groupby(level=0)\n",
    "print(\"\\nRepeated date counts:\\n\",group.count())"
   ]
  },
  {
   "cell_type": "code",
   "execution_count": 12,
   "id": "6129c0ad-b493-4194-a4e0-259b06968bab",
   "metadata": {},
   "outputs": [
    {
     "name": "stdout",
     "output_type": "stream",
     "text": [
      "\n",
      "Multi-column DataFrame with datatime index:\n",
      "                    A         B         C         D\n",
      "2022-10-02  0.083060 -0.965373  1.238148  0.055878\n",
      "2022-10-09 -0.683398  0.014945  0.928888  1.035867\n",
      "2022-10-16 -1.097054  1.817584 -2.132805 -0.204354\n",
      "2022-10-23 -0.589825 -0.419247  0.068547 -0.817512\n",
      "2022-10-30 -0.354751  1.013312 -1.013671  1.457343\n",
      "2022-11-06 -1.313237 -0.180081  1.177673 -0.750928\n",
      "2022-11-13 -0.109358  0.808633 -0.860268  0.651068\n",
      "2022-11-20  0.164479  0.397054 -0.794962  0.215107\n",
      "2022-11-27  0.530312 -1.068592  0.012539  0.722240\n",
      "2022-12-04  2.372572 -0.463372 -0.823248  0.024840\n"
     ]
    }
   ],
   "source": [
    "long_df=pd.DataFrame(np.random.randn(10,4),index=da,columns=list(\"ABCD\"))\n",
    "print(\"\\nMulti-column DataFrame with datatime index:\\n\",long_df)"
   ]
  },
  {
   "cell_type": "code",
   "execution_count": null,
   "id": "02f932fe-38c9-4932-914a-f52ceaedcaeb",
   "metadata": {},
   "outputs": [],
   "source": []
  }
 ],
 "metadata": {
  "kernelspec": {
   "display_name": "Python [conda env:base] *",
   "language": "python",
   "name": "conda-base-py"
  },
  "language_info": {
   "codemirror_mode": {
    "name": "ipython",
    "version": 3
   },
   "file_extension": ".py",
   "mimetype": "text/x-python",
   "name": "python",
   "nbconvert_exporter": "python",
   "pygments_lexer": "ipython3",
   "version": "3.12.7"
  }
 },
 "nbformat": 4,
 "nbformat_minor": 5
}
