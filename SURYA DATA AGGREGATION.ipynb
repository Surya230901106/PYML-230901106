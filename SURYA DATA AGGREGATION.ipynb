{
 "cells": [
  {
   "cell_type": "code",
   "execution_count": 2,
   "id": "6e623aae-9b03-4aa7-9365-8c9c599e131f",
   "metadata": {},
   "outputs": [
    {
     "name": "stdout",
     "output_type": "stream",
     "text": [
      "\n",
      "Original Dataframe:\n",
      "       Name category  value  score\n",
      "0    Alice        A      4     81\n",
      "1      Bob        B      3     81\n",
      "2  Charlie        A      4     77\n",
      "3    Alice        B      1     97\n",
      "4      Bob        A      1     71\n",
      "5  Charlie        B      3     88\n"
     ]
    }
   ],
   "source": [
    "import numpy as np\n",
    "import pandas as pd\n",
    "df=pd.DataFrame({'Name':['Alice', 'Bob', 'Charlie', 'Alice', 'Bob', 'Charlie'],\n",
    "'category':['A', 'B', 'A', 'B', 'A', 'B'],\n",
    "'value':np.random.randint(1, 5, size=6),\n",
    "'score':np.random.randint(60, 100, size=6)\n",
    "})\n",
    "print(\"\\nOriginal Dataframe:\\n\",df)"
   ]
  },
  {
   "cell_type": "code",
   "execution_count": 4,
   "id": "63bfd1ef-9f8d-4805-914b-21029acf0770",
   "metadata": {},
   "outputs": [
    {
     "name": "stdout",
     "output_type": "stream",
     "text": [
      "\n",
      "Group by name and Aggregation with one column:\n",
      "       Name  value\n",
      "0    Alice      5\n",
      "1      Bob      4\n",
      "2  Charlie      7\n"
     ]
    }
   ],
   "source": [
    "df1=df.groupby(('Name'),as_index=False)['value'].sum()\n",
    "print(\"\\nGroup by name and Aggregation with one column:\\n\",df1)"
   ]
  },
  {
   "cell_type": "code",
   "execution_count": 6,
   "id": "6f19e6ca-1752-41de-a7db-aa0283c1af02",
   "metadata": {},
   "outputs": [
    {
     "name": "stdout",
     "output_type": "stream",
     "text": [
      "\n",
      "Group by name and Aggregation with two column:\n",
      "       Name  value  score\n",
      "0    Alice      5    178\n",
      "1      Bob      4    152\n",
      "2  Charlie      7    165\n"
     ]
    }
   ],
   "source": [
    "df2=df.groupby(('Name'),as_index=False)[['value','score']].sum()\n",
    "print(\"\\nGroup by name and Aggregation with two column:\\n\",df2)"
   ]
  },
  {
   "cell_type": "code",
   "execution_count": 8,
   "id": "4318deb4-2fc7-4eb0-970c-6df02f4c6476",
   "metadata": {},
   "outputs": [
    {
     "name": "stdout",
     "output_type": "stream",
     "text": [
      "\n",
      "Group by name and Aggregation with one column using agg function:\n",
      "       Name  value\n",
      "0    Alice      5\n",
      "1      Bob      4\n",
      "2  Charlie      7\n"
     ]
    }
   ],
   "source": [
    "df3=df.groupby(('Name'),as_index=False)['value'].agg('sum')\n",
    "print(\"\\nGroup by name and Aggregation with one column using agg function:\\n\",df3)"
   ]
  },
  {
   "cell_type": "code",
   "execution_count": 10,
   "id": "7755139f-a8f7-4bf7-b160-9cbe07e63be8",
   "metadata": {},
   "outputs": [
    {
     "name": "stdout",
     "output_type": "stream",
     "text": [
      "\n",
      "Group by name and multiple Aggregation functions :\n",
      "         value              score      \n",
      "          sum mean min max   sum  mean\n",
      "Name                                  \n",
      "Alice       5  2.5   1   4   178  89.0\n",
      "Bob         4  2.0   1   3   152  76.0\n",
      "Charlie     7  3.5   3   4   165  82.5\n"
     ]
    }
   ],
   "source": [
    "df4 = df.groupby('Name').agg({\n",
    "'value': ['sum', 'mean', 'min', 'max'],\n",
    "'score': ['sum', 'mean']})\n",
    "\n",
    "print(\"\\nGroup by name and multiple Aggregation functions :\\n\", df4)"
   ]
  },
  {
   "cell_type": "code",
   "execution_count": null,
   "id": "321e1b77-5fc9-4bc5-881b-28b2a8ad003f",
   "metadata": {},
   "outputs": [],
   "source": []
  }
 ],
 "metadata": {
  "kernelspec": {
   "display_name": "Python [conda env:base] *",
   "language": "python",
   "name": "conda-base-py"
  },
  "language_info": {
   "codemirror_mode": {
    "name": "ipython",
    "version": 3
   },
   "file_extension": ".py",
   "mimetype": "text/x-python",
   "name": "python",
   "nbconvert_exporter": "python",
   "pygments_lexer": "ipython3",
   "version": "3.12.7"
  }
 },
 "nbformat": 4,
 "nbformat_minor": 5
}
