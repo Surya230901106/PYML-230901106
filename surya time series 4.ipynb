{
 "cells": [
  {
   "cell_type": "code",
   "execution_count": 2,
   "id": "0e15b291-4e9f-4034-8fc7-dbcfd52a4963",
   "metadata": {},
   "outputs": [
    {
     "name": "stdout",
     "output_type": "stream",
     "text": [
      "Date range:\n",
      " DatetimeIndex(['2020-08-15', '2020-08-16', '2020-08-17', '2020-08-18',\n",
      "               '2020-08-19', '2020-08-20', '2020-08-21', '2020-08-22',\n",
      "               '2020-08-23', '2020-08-24', '2020-08-25', '2020-08-26',\n",
      "               '2020-08-27', '2020-08-28', '2020-08-29', '2020-08-30',\n",
      "               '2020-08-31', '2020-09-01'],\n",
      "              dtype='datetime64[ns]', freq='D')\n"
     ]
    }
   ],
   "source": [
    "import pandas as pd\n",
    "import numpy as np\n",
    "from datetime import datetime\n",
    "ran=pd.date_range(\"2020-08-15\",\"2020-09-01\")\n",
    "print(\"Date range:\\n\",ran)"
   ]
  },
  {
   "cell_type": "code",
   "execution_count": 4,
   "id": "2011fdc9-b464-49e0-a592-09d2eedf31be",
   "metadata": {},
   "outputs": [
    {
     "name": "stdout",
     "output_type": "stream",
     "text": [
      "\n",
      "Date range with periods and default day frequency:\n",
      " DatetimeIndex(['2020-07-15', '2020-07-16', '2020-07-17', '2020-07-18',\n",
      "               '2020-07-19', '2020-07-20', '2020-07-21', '2020-07-22',\n",
      "               '2020-07-23', '2020-07-24'],\n",
      "              dtype='datetime64[ns]', freq='D')\n"
     ]
    }
   ],
   "source": [
    "ran=pd.date_range(\"2020-07-15\", periods=10) \n",
    "print(\"\\nDate range with periods and default day frequency:\\n\",ran)"
   ]
  },
  {
   "cell_type": "code",
   "execution_count": 6,
   "id": "38edd865-81ce-4791-9688-66012704ad05",
   "metadata": {},
   "outputs": [
    {
     "name": "stdout",
     "output_type": "stream",
     "text": [
      "\n",
      "Date range with periods and month frequency:\n",
      " PeriodIndex(['2020-10', '2020-11', '2020-12', '2021-01', '2021-02', '2021-03',\n",
      "             '2021-04', '2021-05', '2021-06', '2021-07'],\n",
      "            dtype='period[M]')\n"
     ]
    }
   ],
   "source": [
    "ran=pd.period_range(\"2020-10\", periods=10, freq=\"M\") \n",
    "print(\"\\nDate range with periods and month frequency:\\n\",ran)"
   ]
  },
  {
   "cell_type": "code",
   "execution_count": 8,
   "id": "71b5e213-be24-4f7a-8e25-6b871c002b88",
   "metadata": {},
   "outputs": [
    {
     "name": "stdout",
     "output_type": "stream",
     "text": [
      "\n",
      "Zero day with hour frequency periods:\n",
      " TimedeltaIndex(['0 days 00:00:00', '0 days 01:00:00', '0 days 02:00:00',\n",
      "                '0 days 03:00:00', '0 days 04:00:00', '0 days 05:00:00',\n",
      "                '0 days 06:00:00', '0 days 07:00:00'],\n",
      "               dtype='timedelta64[ns]', freq='h')\n"
     ]
    },
    {
     "name": "stderr",
     "output_type": "stream",
     "text": [
      "C:\\Users\\Ashwin AK\\AppData\\Local\\Temp\\ipykernel_11288\\3615871998.py:1: FutureWarning: 'H' is deprecated and will be removed in a future version, please use 'h' instead.\n",
      "  ran=pd.timedelta_range(0, periods=8, freq=\"H\")\n"
     ]
    }
   ],
   "source": [
    "ran=pd.timedelta_range(0, periods=8, freq=\"H\")\n",
    "print(\"\\nZero day with hour frequency periods:\\n\",ran)"
   ]
  },
  {
   "cell_type": "code",
   "execution_count": null,
   "id": "2c9dd902-a418-471f-a7d1-858a37301fd6",
   "metadata": {},
   "outputs": [],
   "source": []
  }
 ],
 "metadata": {
  "kernelspec": {
   "display_name": "Python [conda env:base] *",
   "language": "python",
   "name": "conda-base-py"
  },
  "language_info": {
   "codemirror_mode": {
    "name": "ipython",
    "version": 3
   },
   "file_extension": ".py",
   "mimetype": "text/x-python",
   "name": "python",
   "nbconvert_exporter": "python",
   "pygments_lexer": "ipython3",
   "version": "3.12.7"
  }
 },
 "nbformat": 4,
 "nbformat_minor": 5
}
