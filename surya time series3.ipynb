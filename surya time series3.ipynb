{
 "cells": [
  {
   "cell_type": "code",
   "execution_count": 2,
   "id": "0c461317-c683-4bba-8ae4-a1b7284df733",
   "metadata": {},
   "outputs": [
    {
     "name": "stdout",
     "output_type": "stream",
     "text": [
      "Date Index \n",
      " 2011-01-02   -1.126702\n",
      "2011-01-05    0.559882\n",
      "2011-01-07    0.569055\n",
      "2011-01-08    1.427122\n",
      "2011-01-10   -1.264031\n",
      "2011-01-12   -1.709860\n",
      "dtype: float64\n"
     ]
    }
   ],
   "source": [
    "import pandas as pd\n",
    "import numpy as np\n",
    "from datetime import datetime\n",
    "\n",
    "#create a date variable that contains the dates\n",
    "dates = [datetime(2011, 1, 2),\n",
    "         datetime(2011, 1, 5),\n",
    "         datetime(2011, 1, 7),\n",
    "         datetime(2011, 1, 8),\n",
    "         datetime(2011, 1, 10),\n",
    "         datetime(2011, 1, 12)]\n",
    "\n",
    "#with this date object, create a series\n",
    "ts = pd.Series(np.random.randn(6), index=dates)\n",
    "print(\"Date Index \\n\",ts)"
   ]
  },
  {
   "cell_type": "code",
   "execution_count": 4,
   "id": "342dd117-e752-47c3-943f-e95bca831910",
   "metadata": {},
   "outputs": [
    {
     "name": "stdout",
     "output_type": "stream",
     "text": [
      "\n",
      "Date Index alone from the series: \n",
      " DatetimeIndex(['2011-01-02', '2011-01-05', '2011-01-07', '2011-01-08',\n",
      "               '2011-01-10', '2011-01-12'],\n",
      "              dtype='datetime64[ns]', freq=None)\n"
     ]
    }
   ],
   "source": [
    "print(\"\\nDate Index alone from the series: \\n\",ts.index)"
   ]
  },
  {
   "cell_type": "code",
   "execution_count": 6,
   "id": "965506c3-6815-4487-a9a3-040573a9a2ee",
   "metadata": {},
   "outputs": [
    {
     "name": "stdout",
     "output_type": "stream",
     "text": [
      "\n",
      "Second index:\n",
      " 2011-01-07 00:00:00\n"
     ]
    }
   ],
   "source": [
    "stamp=ts.index[2]\n",
    "print(\"\\nSecond index:\\n\", stamp)"
   ]
  },
  {
   "cell_type": "code",
   "execution_count": 8,
   "id": "fffe41be-e4ff-43c6-ad5a-3d1ddbe9be46",
   "metadata": {},
   "outputs": [
    {
     "name": "stdout",
     "output_type": "stream",
     "text": [
      "\n",
      "Daterange up to 1000 days:\n",
      " 2000-01-01   -0.172839\n",
      "2000-01-02    0.149522\n",
      "2000-01-03    1.211835\n",
      "2000-01-04   -0.261216\n",
      "2000-01-05   -0.011659\n",
      "                ...   \n",
      "2002-09-22   -0.028372\n",
      "2002-09-23   -1.886901\n",
      "2002-09-24   -0.060755\n",
      "2002-09-25   -0.292336\n",
      "2002-09-26    0.301083\n",
      "Freq: D, Length: 1000, dtype: float64\n"
     ]
    }
   ],
   "source": [
    "#play like a ball with long-times series\n",
    "longer_ts=pd.Series(np.random.randn(1000),\n",
    "                    index=pd.date_range(\"2000-01-01\",periods=1000))\n",
    "print(\"\\nDaterange up to 1000 days:\\n\",longer_ts)"
   ]
  },
  {
   "cell_type": "code",
   "execution_count": 10,
   "id": "cffdac1d-bd97-4be5-9546-10c739893fe0",
   "metadata": {},
   "outputs": [
    {
     "name": "stdout",
     "output_type": "stream",
     "text": [
      "\n",
      "Date range-2001 year:\n",
      " 2001-01-01   -0.611025\n",
      "2001-01-02   -1.138755\n",
      "2001-01-03    0.777525\n",
      "2001-01-04   -1.722808\n",
      "2001-01-05   -1.866490\n",
      "                ...   \n",
      "2001-12-27    0.283782\n",
      "2001-12-28    1.386092\n",
      "2001-12-29   -0.754272\n",
      "2001-12-30    0.579196\n",
      "2001-12-31    0.857530\n",
      "Freq: D, Length: 365, dtype: float64\n"
     ]
    }
   ],
   "source": [
    "print(\"\\nDate range-2001 year:\\n\", longer_ts[\"2001\"])"
   ]
  },
  {
   "cell_type": "code",
   "execution_count": 16,
   "id": "75454a91-d435-456d-afa5-4e1f84707121",
   "metadata": {},
   "outputs": [
    {
     "name": "stdout",
     "output_type": "stream",
     "text": [
      "\n",
      "Date range-05 month 2001 year:\n",
      " 2001-05-01    2.246459\n",
      "2001-05-02   -1.196848\n",
      "2001-05-03    0.767113\n",
      "2001-05-04    0.029849\n",
      "2001-05-05   -0.895567\n",
      "2001-05-06   -0.989006\n",
      "2001-05-07    0.813630\n",
      "2001-05-08   -1.192808\n",
      "2001-05-09    0.313027\n",
      "2001-05-10   -0.196733\n",
      "2001-05-11   -0.462560\n",
      "2001-05-12    1.181646\n",
      "2001-05-13   -0.184889\n",
      "2001-05-14    0.933502\n",
      "2001-05-15    1.181911\n",
      "2001-05-16    1.477140\n",
      "2001-05-17   -0.394190\n",
      "2001-05-18   -0.397277\n",
      "2001-05-19   -0.460328\n",
      "2001-05-20   -0.615872\n",
      "2001-05-21   -1.180258\n",
      "2001-05-22    0.567591\n",
      "2001-05-23    1.519753\n",
      "2001-05-24   -2.126345\n",
      "2001-05-25    0.578427\n",
      "2001-05-26    0.616221\n",
      "2001-05-27   -0.758609\n",
      "2001-05-28   -0.997211\n",
      "2001-05-29   -0.720885\n",
      "2001-05-30   -0.780516\n",
      "2001-05-31    0.292315\n",
      "Freq: D, dtype: float64\n"
     ]
    }
   ],
   "source": [
    "print(\"\\nDate range-05 month 2001 year:\\n\", longer_ts[\"2001-05\"])"
   ]
  },
  {
   "cell_type": "code",
   "execution_count": 14,
   "id": "94d65859-6bdc-4a1a-b368-1726e5a52675",
   "metadata": {},
   "outputs": [
    {
     "name": "stdout",
     "output_type": "stream",
     "text": [
      "\n",
      "Date range-first few dates in 2000 year:\n",
      " 2000-01-01   -0.172839\n",
      "2000-01-02    0.149522\n",
      "2000-01-03    1.211835\n",
      "2000-01-04   -0.261216\n",
      "2000-01-05   -0.011659\n",
      "Freq: D, dtype: float64\n"
     ]
    }
   ],
   "source": [
    "print(\"\\nDate range-first few dates in 2000 year:\\n\",longer_ts[\"2000\"].head())"
   ]
  },
  {
   "cell_type": "code",
   "execution_count": 18,
   "id": "44ad6747-e046-4dc5-abc4-9cd64bdc1bbc",
   "metadata": {},
   "outputs": [
    {
     "name": "stdout",
     "output_type": "stream",
     "text": [
      "\n",
      "Date range-first 15 dates in 02 month 2001 year:\n",
      " 2000-02-01    0.306139\n",
      "2000-02-02   -0.157732\n",
      "2000-02-03    0.978786\n",
      "2000-02-04   -3.219428\n",
      "2000-02-05   -1.875256\n",
      "2000-02-06    0.831542\n",
      "2000-02-07    1.140148\n",
      "2000-02-08    0.236695\n",
      "2000-02-09    1.302600\n",
      "2000-02-10   -1.381100\n",
      "2000-02-11   -1.140526\n",
      "2000-02-12   -0.583738\n",
      "2000-02-13   -0.684700\n",
      "2000-02-14   -0.192405\n",
      "2000-02-15   -0.124168\n",
      "Freq: D, dtype: float64\n"
     ]
    }
   ],
   "source": [
    "print(\"\\nDate range-first 15 dates in 02 month 2001 year:\\n\",longer_ts[\"2000-02\"].head(15))"
   ]
  },
  {
   "cell_type": "code",
   "execution_count": 20,
   "id": "149ccd0f-bd00-44ba-83df-c121e28231a4",
   "metadata": {},
   "outputs": [
    {
     "name": "stdout",
     "output_type": "stream",
     "text": [
      "\n",
      "Date range-rom 26-9-2001:\n",
      " 2000-09-26    1.161534\n",
      "2000-09-27   -1.282453\n",
      "2000-09-28   -0.033957\n",
      "2000-09-29    0.060920\n",
      "2000-09-30   -0.024604\n",
      "                ...   \n",
      "2002-09-22   -0.028372\n",
      "2002-09-23   -1.886901\n",
      "2002-09-24   -0.060755\n",
      "2002-09-25   -0.292336\n",
      "2002-09-26    0.301083\n",
      "Freq: D, Length: 731, dtype: float64\n"
     ]
    }
   ],
   "source": [
    "print(\"\\nDate range-rom 26-9-2001:\\n\",longer_ts[datetime(2000,9,26):])"
   ]
  },
  {
   "cell_type": "code",
   "execution_count": 22,
   "id": "967ab7cc-249c-477f-8270-c528327e7bd9",
   "metadata": {},
   "outputs": [
    {
     "name": "stdout",
     "output_type": "stream",
     "text": [
      "\n",
      "Date range from 26-9-2001 to 25-9- 2002:\n",
      " 2001-09-26    0.316340\n",
      "2001-09-27    1.429327\n",
      "2001-09-28   -1.415556\n",
      "2001-09-29    0.261539\n",
      "2001-09-30    1.102344\n",
      "                ...   \n",
      "2002-09-21    1.562526\n",
      "2002-09-22   -0.028372\n",
      "2002-09-23   -1.886901\n",
      "2002-09-24   -0.060755\n",
      "2002-09-25   -0.292336\n",
      "Freq: D, Length: 365, dtype: float64\n"
     ]
    }
   ],
   "source": [
    "print(\"\\nDate range from 26-9-2001 to 25-9- 2002:\\n\",longer_ts[datetime(2001,9,26):datetime(2002,9,25)])"
   ]
  },
  {
   "cell_type": "code",
   "execution_count": null,
   "id": "fe6f6240-bff1-435d-becc-6fb6b4bcda18",
   "metadata": {},
   "outputs": [],
   "source": []
  }
 ],
 "metadata": {
  "kernelspec": {
   "display_name": "Python [conda env:base] *",
   "language": "python",
   "name": "conda-base-py"
  },
  "language_info": {
   "codemirror_mode": {
    "name": "ipython",
    "version": 3
   },
   "file_extension": ".py",
   "mimetype": "text/x-python",
   "name": "python",
   "nbconvert_exporter": "python",
   "pygments_lexer": "ipython3",
   "version": "3.12.7"
  }
 },
 "nbformat": 4,
 "nbformat_minor": 5
}
